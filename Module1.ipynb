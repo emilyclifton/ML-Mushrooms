{
  "nbformat": 4,
  "nbformat_minor": 0,
  "metadata": {
    "colab": {
      "provenance": [],
      "authorship_tag": "ABX9TyP5T47IuLMd5JZM/o+pTC8s",
      "include_colab_link": true
    },
    "kernelspec": {
      "name": "python3",
      "display_name": "Python 3"
    },
    "language_info": {
      "name": "python"
    }
  },
  "cells": [
    {
      "cell_type": "markdown",
      "metadata": {
        "id": "view-in-github",
        "colab_type": "text"
      },
      "source": [
        "<a href=\"https://colab.research.google.com/github/emilyclifton/ML-Mushrooms/blob/main/Module1.ipynb\" target=\"_parent\"><img src=\"https://colab.research.google.com/assets/colab-badge.svg\" alt=\"Open In Colab\"/></a>"
      ]
    },
    {
      "cell_type": "markdown",
      "source": [
        "#Machine Learning with Mushroom Dataset"
      ],
      "metadata": {
        "id": "y2NfBfgdIpWO"
      }
    },
    {
      "cell_type": "markdown",
      "source": [
        "##Background:\n",
        "###Introduction\n",
        "Mushrooms are a diverse group of fungi that have been apart of human diets and traditional medicines for centuries. The vast array of mushroom spieces presents both culinary delights and potential dangers, with certain mushrooms being highly toxic and even lethal if consummed. In this context, the ability to accurately identify whether a mushroom is edible or poisonous becomes paramount for the health of individuals who forage for mushrooms. Hopefully, with Machine Learning Algorithms this project will enchance the accuracy and efficiency of mushroom edibility classification.\n",
        "###Literature Review\n",
        "Historically, the identification of edible and poisonous mushrooms has relied on traditional knowledge passed down through generations. However, the limitations of this approach have become increasingly evident, prompting researchers to explore alternative methods. Previous literature has explored various techniques, including field guides, morphological characteristics, and chemical analyses, to distiguish between edible and poisonous mushrooms. Moreover, recent advancements in machine learning have offered new possibilities for automating and imporoving the accuracy of this classification process.\n",
        "###Research Gaps\n",
        "Despite the progress in traditional methods and the field of machine learning, there exists a notable research gap in developing robust models for mushroom edibility classification. The challenge lies in the dataset structure, where each mushroom species is labeled as definitely edible, definitely poisonous, or of unkown edibility and not recommended. The amalgamation of the \"unkown edibility\" class with the \"poisonous\" class introduces ambiguity, making it difficult to establish clear rules for identifying poisonous mushrooms based on available signs. This research gap calls for innovative approaches to address the inherent complexities within the dataset and improve the accuracy of edibility predictions.\n",
        "###Challenges\n",
        "One of the primary challenges in this project is navigating the dataset's classification nuances. The absence of distinct rules for identifying poisonous mushrooms poses a unique obstacle. Machine learning models must grapple with the uncertainty associated with the \"unknown edibility\" class, requiring strategies to enhance classification accuracy and mitigate the risks associated with false positives or false negatives. Overcoming these challenges is crucial to developing a reliable and practical tool for mushroom enthusiasts, foragers, and researchers alike.\n",
        "\n",
        "##Project Description:\n",
        "###Project Topic\n",
        "This project aims to develop a machine learning model for the accurate classification of mushroom edibility. The dataset comprises descriptions of hypothetical samples corresponding to 23 species of gilled mushrooms within the Agaricus and Lepiota Family. The challenge lies in effectively classifying these samples as definitely edible (e), definitely poisonous (p), or of unknown edibility and not recommended (combined with poisonous).\n",
        "###Methodology\n",
        "Employing advanced classification algorithms, such as neural networks or decision trees, the machine learning approach takes into account detailed descriptions of hypothetical samples. Variables such as cap shape, cap color, odor, gill size, and others derived from these descriptions contribute to the model's accuracy. Special attention is given to handling the \"unknown edibility\" class, taking into consideration the unique characteristics of the Agaricus and Lepiota Family samples.\n",
        "###Data Resources\n",
        "The dataset from the UC Irvine Machine Learning Repository provides comprehensive descriptions of hypothetical samples from 23 species of gilled mushrooms. Variables such as cap shape (bell, conical, convex, flat, knobbed, sunken), cap color (brown, buff, cinnamon, gray, green, pink, purple, red, white, yellow), and others offer detailed insights into the morphological and chemical features of each mushroom species.\n",
        "https://archive.ics.uci.edu/dataset/73/mushroom\n",
        "###Anticipated Outcomes\n",
        "The anticipated outcomes include the development of a robust machine learning model capable of accurately classifying mushrooms within the Agaricus and Lepiota Family. Performance evaluation metrics, such as precision, recall, and F1 score, will provide a comprehensive assessment of the model's effectiveness. The analysis of specific variables derived from the hypothetical samples will contribute to a nuanced understanding of the features influencing mushroom edibility.\n",
        "\n",
        "##Performance Metrics:\n",
        "| Metric | Mathematical Expression | Explanation |\n",
        "| ---------- | ----------- | ----------- |\n",
        "| $Accuracy$ | $= \\dfrac{TP+TN}{TP+TN+FP+FN}$ | Measures the overall correctness of the model. |\n",
        "| $Precision$ | $= \\dfrac{TP}{TP+FP}$ | Evaluates the accuracy of positive predictions. |\n",
        "| $Recall$ | $= \\dfrac{TP}{TP+TN}$ | Assesses the model's ability to identify positive instances. |\n",
        "| $F1$ | $= \\dfrac{2\\cdot Precision\\cdot Recall}{Precision+Recall}$ | Provides a balanced measure that considers both false positives and false negatives. |\n",
        "| $AUC-ROC$ | Area under the Receiver Operating Characteristic | Measures the model's ability to distiguish between edible and posionous. |\n",
        "\n",
        "\n"
      ],
      "metadata": {
        "id": "bUNz_unyJxZB"
      }
    }
  ]
}